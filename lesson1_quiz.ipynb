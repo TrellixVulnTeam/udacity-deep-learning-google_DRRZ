{
 "cells": [
  {
   "cell_type": "markdown",
   "metadata": {},
   "source": [
    "## Quiz: Softmax\n",
    "\n",
    "Quiz: Softmax\n",
    "Note: Your softmax(x) function should return a NumPy array of the same shape as x.\n"
   ]
  },
  {
   "cell_type": "code",
   "execution_count": 18,
   "metadata": {
    "collapsed": true
   },
   "outputs": [],
   "source": [
    "# Imports\n",
    "\n",
    "import numpy as np"
   ]
  },
  {
   "cell_type": "code",
   "execution_count": 19,
   "metadata": {},
   "outputs": [
    {
     "name": "stdout",
     "output_type": "stream",
     "text": [
      "Scores: [3.0, 1.0, 0.2]\n",
      "Prob: [ 0.8360188   0.11314284  0.05083836]\n"
     ]
    }
   ],
   "source": [
    "scores = [3.0, 1.0, 0.2]\n",
    "\n",
    "def softmax(x):\n",
    "    return (np.exp(x) / np.sum(np.exp(x), axis=0))\n",
    "\n",
    "print (\"Scores: \"+str(scores))\n",
    "print(\"Probabilities: \"+ str(softmax(scores)))\n"
   ]
  },
  {
   "cell_type": "markdown",
   "metadata": {},
   "source": [
    "## Quiz: Softmax Quiz Part 1\n",
    "\n",
    "Quiz: Softmax\n",
    "Note: Multiply scores by 10"
   ]
  },
  {
   "cell_type": "code",
   "execution_count": 20,
   "metadata": {},
   "outputs": [
    {
     "name": "stdout",
     "output_type": "stream",
     "text": [
      "Scores: [30.0, 10.0, 2.0]\n",
      "Prob: [  9.99999998e-01   2.06115362e-09   6.91440009e-13]\n"
     ]
    }
   ],
   "source": [
    "scores2 = list(map(lambda x: x*10, scores))\n",
    "\n",
    "print (\"Scores: \"+str(scores2))\n",
    "print(\"Probabilities: \"+ str(softmax(scores2)))\n"
   ]
  },
  {
   "cell_type": "markdown",
   "metadata": {},
   "source": [
    "## Quiz: Softmax Quiz Part 2\n",
    "\n",
    "Quiz: Softmax\n",
    "Note: Divide scores by 10"
   ]
  },
  {
   "cell_type": "code",
   "execution_count": 21,
   "metadata": {},
   "outputs": [
    {
     "name": "stdout",
     "output_type": "stream",
     "text": [
      "Scores: [0.3, 0.1, 0.02]\n",
      "Prob: [ 0.38842275  0.31801365  0.2935636 ]\n"
     ]
    }
   ],
   "source": [
    "scores3 = list(map(lambda x: x/10, scores))\n",
    "\n",
    "print (\"Scores: \"+str(scores3))\n",
    "print(\"Probabilities: \"+ str(softmax(scores3)))\n"
   ]
  },
  {
   "cell_type": "markdown",
   "metadata": {},
   "source": [
    "## Quiz: Numerical Stability\n",
    "\n",
    "Whip out a Python interpreter or use this online Sandbox.\n",
    "\n",
    "Set a variable to 1 billion (109). Then add 10-6 to it a million (106) times. Now subtract 1 billion from it. What is the result?"
   ]
  },
  {
   "cell_type": "code",
   "execution_count": 22,
   "metadata": {},
   "outputs": [
    {
     "name": "stdout",
     "output_type": "stream",
     "text": [
      "0.95367431640625\n"
     ]
    }
   ],
   "source": [
    "import numpy as np\n",
    "\n",
    "a = 1000000000\n",
    "    \n",
    "for i in np.arange(0, 1000000):\n",
    "    a+=0.000001\n",
    "    \n",
    "a-=1000000000\n",
    "\n",
    "print (a)\n",
    "    "
   ]
  }
 ],
 "metadata": {
  "kernelspec": {
   "display_name": "Python 3",
   "language": "python",
   "name": "python3"
  },
  "language_info": {
   "codemirror_mode": {
    "name": "ipython",
    "version": 3
   },
   "file_extension": ".py",
   "mimetype": "text/x-python",
   "name": "python",
   "nbconvert_exporter": "python",
   "pygments_lexer": "ipython3",
   "version": "3.6.2"
  }
 },
 "nbformat": 4,
 "nbformat_minor": 2
}
